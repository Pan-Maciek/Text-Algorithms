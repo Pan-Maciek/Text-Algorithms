{
 "cells": [
  {
   "cell_type": "code",
   "execution_count": 1,
   "metadata": {},
   "outputs": [],
   "source": [
    "from collections import defaultdict\n",
    "from timeit import timeit"
   ]
  },
  {
   "cell_type": "markdown",
   "metadata": {},
   "source": [
    "# Zaimplementuj algorytmy wyszukiwania wzorców"
   ]
  },
  {
   "cell_type": "code",
   "execution_count": 2,
   "metadata": {},
   "outputs": [],
   "source": [
    "def naive_match(text, pattern):\n",
    "    l = len(pattern)\n",
    "    for i in range(len(text) - l + 1):\n",
    "        if pattern == text[i:i+l]:\n",
    "            yield i"
   ]
  },
  {
   "cell_type": "code",
   "execution_count": 3,
   "metadata": {},
   "outputs": [],
   "source": [
    "def build_transition_table(pattern):\n",
    "    alphabet, transition_table = set(pattern), []\n",
    "    for q in range(len(pattern) + 1):\n",
    "        state, x = defaultdict(int), min(len(pattern), q + 1)\n",
    "        for a in alphabet:\n",
    "            for k in range(x, -1, -1):\n",
    "                if (pattern[:q] + a).endswith(pattern[:k]):\n",
    "                    break\n",
    "            state[a] = k\n",
    "        transition_table.append(state)\n",
    "    return transition_table"
   ]
  },
  {
   "cell_type": "code",
   "execution_count": 4,
   "metadata": {},
   "outputs": [],
   "source": [
    "def finite_automat_match(text, tt):\n",
    "    state, final_state = 0, len(tt) - 1\n",
    "    offset = final_state - 1\n",
    "    for i, c in enumerate(text):\n",
    "        state = tt[state][c]\n",
    "        if state == final_state:\n",
    "            yield i - offset"
   ]
  },
  {
   "cell_type": "code",
   "execution_count": 5,
   "metadata": {},
   "outputs": [],
   "source": [
    "def prepare_prefix(pattern):\n",
    "    pi, k = [0], 0\n",
    "    for c in pattern[1:]:\n",
    "        while(k > 0 and pattern[k] != c): k = pi[k-1]\n",
    "        if(pattern[k] == c): k = k + 1\n",
    "        pi.append(k)\n",
    "    return [0] + pi"
   ]
  },
  {
   "cell_type": "code",
   "execution_count": 6,
   "metadata": {},
   "outputs": [],
   "source": [
    "def kmp_match(text, pattern, pi):\n",
    "    q, l = 0, len(pattern)\n",
    "    for i, c in enumerate(text):\n",
    "        while(q > 0 and pattern[q] != c): q = pi[q]\n",
    "        if(pattern[q] == c): q += 1\n",
    "        if(q == l):\n",
    "            yield i + 1 - q\n",
    "            q = pi[q]"
   ]
  },
  {
   "cell_type": "markdown",
   "metadata": {},
   "source": [
    "# Zaimplementuj testy porównujące szybkość działania wyżej wymienionych algorytmów."
   ]
  },
  {
   "cell_type": "code",
   "execution_count": 7,
   "metadata": {},
   "outputs": [],
   "source": [
    "def avg_time(f, times=10):\n",
    "    t0 = timeit(f, number=1)\n",
    "    if t0 > 2: return t0\n",
    "    return (t0 + timeit(f, number=times-1)) / times\n",
    "\n",
    "def test(text, pattern, test_name=None):\n",
    "    if test_name:\n",
    "        print(test_name)\n",
    "    \n",
    "    prepare_fin = avg_time(lambda: build_transition_table(pattern))\n",
    "    prepare_kmp = avg_time(lambda: prepare_prefix(pattern))\n",
    "    tt = build_transition_table(pattern)\n",
    "    pf = prepare_prefix(pattern)\n",
    "\n",
    "    naive = avg_time(lambda: list(naive_match(text, pattern)))\n",
    "    print(\"naive\\t\", naive)\n",
    "    fin = avg_time(lambda: list(finite_automat_match(text, tt)))\n",
    "    print(\"finite\\t\", fin, \"+\", prepare_fin, \"preparation\")\n",
    "    kmp = avg_time(lambda: list(kmp_match(text, pattern, pf)))\n",
    "    print(\"kmp\\t\", kmp, \"+\", prepare_kmp, \"preparation\")\n",
    "    print()"
   ]
  },
  {
   "cell_type": "markdown",
   "metadata": {},
   "source": [
    "# Znajdź wszystkie wystąpienia wzorca \"art\" w załączonej ustawie, za pomocą każdego algorytmu."
   ]
  },
  {
   "cell_type": "code",
   "execution_count": 8,
   "metadata": {},
   "outputs": [
    {
     "name": "stdout",
     "output_type": "stream",
     "text": [
      " naive[:10] [1156, 1505, 4692, 4734, 4879, 5082, 5148, 5949, 6039, 7266]\n",
      "finite[:10] [1156, 1505, 4692, 4734, 4879, 5082, 5148, 5949, 6039, 7266]\n",
      "   kmp[:10] [1156, 1505, 4692, 4734, 4879, 5082, 5148, 5949, 6039, 7266]\n"
     ]
    }
   ],
   "source": [
    "with open(\"ustawa.txt\") as file:\n",
    "    text, pattern = file.read(), \"art\"\n",
    "    \n",
    "    tt = build_transition_table(pattern)\n",
    "    pf = prepare_prefix(pattern)\n",
    "    \n",
    "    naive = list(naive_match(text, pattern))\n",
    "    print(\" naive[:10]\", naive[:10])\n",
    "    fin = list(finite_automat_match(text, tt))\n",
    "    print(\"finite[:10]\", fin[:10])\n",
    "    kmp = list(kmp_match(text, pattern, pf))\n",
    "    print(\"   kmp[:10]\", kmp[:10])"
   ]
  },
  {
   "cell_type": "markdown",
   "metadata": {},
   "source": [
    "# Porównaj szybkość działania algorytmów dla problemu z p. 3."
   ]
  },
  {
   "cell_type": "code",
   "execution_count": 9,
   "metadata": {},
   "outputs": [
    {
     "name": "stdout",
     "output_type": "stream",
     "text": [
      "ustawa.txt\n",
      "naive\t 0.05351316830001451\n",
      "finite\t 0.021237090000067838 + 2.0467399917833972e-05 preparation\n",
      "kmp\t 0.023262275700108147 + 1.2983999113203027e-06 preparation\n",
      "\n"
     ]
    }
   ],
   "source": [
    "with open(\"ustawa.txt\") as file:\n",
    "    test(file.read(), \"art\", file.name)"
   ]
  },
  {
   "cell_type": "markdown",
   "metadata": {},
   "source": [
    "# Porównaj szybkość działania algorytmów poprzez wyszukanie słowa \"kruszwil\" we fragmencie polskiej Wikipedii"
   ]
  },
  {
   "cell_type": "code",
   "execution_count": 10,
   "metadata": {},
   "outputs": [
    {
     "name": "stdout",
     "output_type": "stream",
     "text": [
      "wikipedia-tail-kruszwil.txt\n",
      "naive\t 31.134453668999413\n",
      "finite\t 21.655999339000118 + 9.096399990085046e-05 preparation\n",
      "kmp\t 28.224473557998863 + 1.2628999684238806e-06 preparation\n",
      "\n"
     ]
    }
   ],
   "source": [
    "with open(\"wikipedia-tail-kruszwil.txt\") as file:\n",
    "    test(file.read(), \"kruszwil\", file.name)"
   ]
  },
  {
   "cell_type": "markdown",
   "metadata": {},
   "source": [
    "# Zaproponuj tekst oraz wzorzec, dla którego zmierzony czas działania algorytmów 2 oraz 3 będzie co najmniej 2-krotnie krótszy niż dla algorytmu naiwnego.\n",
    "\n",
    "# Zaproponuj wzorzec, dla którego zmierzony czas obliczenia tablicy przejścia automatu skończonego będzie co najmniej dwukrotnie dłuższy, niż czas potrzebny na utworzenie funkcji przejścia w algorytmie KMP."
   ]
  },
  {
   "cell_type": "code",
   "execution_count": 12,
   "metadata": {},
   "outputs": [
    {
     "name": "stdout",
     "output_type": "stream",
     "text": [
      "naive\t 3.6342687899996236\n",
      "finite\t 0.07437620030013932 + 0.5293011024001316 preparation\n",
      "kmp\t 0.17854965400001674 + 0.012966298799983633 preparation\n",
      "\n"
     ]
    }
   ],
   "source": [
    "pattern = 'a' * 100000 # ten sam wzorzec\n",
    "text = (pattern[:-1] + 'b') * 10\n",
    "test(text, pattern)"
   ]
  },
  {
   "cell_type": "code",
   "execution_count": null,
   "metadata": {},
   "outputs": [],
   "source": []
  }
 ],
 "metadata": {
  "kernelspec": {
   "display_name": "Python 3",
   "language": "python",
   "name": "python3"
  },
  "language_info": {
   "codemirror_mode": {
    "name": "ipython",
    "version": 3
   },
   "file_extension": ".py",
   "mimetype": "text/x-python",
   "name": "python",
   "nbconvert_exporter": "python",
   "pygments_lexer": "ipython3",
   "version": "3.7.5"
  }
 },
 "nbformat": 4,
 "nbformat_minor": 2
}
